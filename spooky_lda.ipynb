{
 "cells": [
  {
   "cell_type": "markdown",
   "metadata": {},
   "source": [
    "The workbook [spooky_lda](./spooky_lda.ipynb) made a naive Bayes model based on word frequency usage. This ended up with a ~94% accuracy score as measured on the training data alone.\n",
    "\n",
    "This workbook looks at applying a topic model, and then clustering in the topic space. We also start by splitting into a training and test set first!"
   ]
  },
  {
   "cell_type": "code",
   "execution_count": 1,
   "metadata": {},
   "outputs": [],
   "source": [
    "from sklearn.feature_extraction.text import CountVectorizer, TfidfVectorizer\n",
    "import numpy as np\n",
    "import matplotlib.pyplot as plt\n",
    "import nltk\n",
    "import pandas as pd\n",
    "\n",
    "%matplotlib inline\n",
    "\n",
    "plt.style.use('ggplot')"
   ]
  },
  {
   "cell_type": "code",
   "execution_count": 2,
   "metadata": {},
   "outputs": [],
   "source": [
    "documents = pd.read_csv('./data/train.csv')"
   ]
  },
  {
   "cell_type": "markdown",
   "metadata": {},
   "source": [
    "## Train / test split\n",
    "\n",
    "Let's split our data into test/train splits, and vectorize the output. We won't apply stopwords, as the usage of articles may be useful in detecting different writing styles."
   ]
  },
  {
   "cell_type": "code",
   "execution_count": 8,
   "metadata": {},
   "outputs": [],
   "source": [
    "mask = np.random.random(size=len(documents)) < 0.8\n",
    "train= documents[mask]\n",
    "test = documents[~mask]"
   ]
  },
  {
   "cell_type": "code",
   "execution_count": 21,
   "metadata": {},
   "outputs": [
    {
     "data": {
      "text/html": [
       "<div>\n",
       "<style scoped>\n",
       "    .dataframe tbody tr th:only-of-type {\n",
       "        vertical-align: middle;\n",
       "    }\n",
       "\n",
       "    .dataframe tbody tr th {\n",
       "        vertical-align: top;\n",
       "    }\n",
       "\n",
       "    .dataframe thead th {\n",
       "        text-align: right;\n",
       "    }\n",
       "</style>\n",
       "<table border=\"1\" class=\"dataframe\">\n",
       "  <thead>\n",
       "    <tr style=\"text-align: right;\">\n",
       "      <th></th>\n",
       "      <th>id</th>\n",
       "      <th>text</th>\n",
       "      <th>author</th>\n",
       "    </tr>\n",
       "  </thead>\n",
       "  <tbody>\n",
       "    <tr>\n",
       "      <th>0</th>\n",
       "      <td>id26305</td>\n",
       "      <td>This process, however, afforded me no means of...</td>\n",
       "      <td>EAP</td>\n",
       "    </tr>\n",
       "    <tr>\n",
       "      <th>1</th>\n",
       "      <td>id17569</td>\n",
       "      <td>It never once occurred to me that the fumbling...</td>\n",
       "      <td>HPL</td>\n",
       "    </tr>\n",
       "    <tr>\n",
       "      <th>2</th>\n",
       "      <td>id11008</td>\n",
       "      <td>In his left hand was a gold snuff box, from wh...</td>\n",
       "      <td>EAP</td>\n",
       "    </tr>\n",
       "    <tr>\n",
       "      <th>3</th>\n",
       "      <td>id27763</td>\n",
       "      <td>How lovely is spring As we looked from Windsor...</td>\n",
       "      <td>MWS</td>\n",
       "    </tr>\n",
       "    <tr>\n",
       "      <th>4</th>\n",
       "      <td>id12958</td>\n",
       "      <td>Finding nothing else, not even gold, the Super...</td>\n",
       "      <td>HPL</td>\n",
       "    </tr>\n",
       "  </tbody>\n",
       "</table>\n",
       "</div>"
      ],
      "text/plain": [
       "        id                                               text author\n",
       "0  id26305  This process, however, afforded me no means of...    EAP\n",
       "1  id17569  It never once occurred to me that the fumbling...    HPL\n",
       "2  id11008  In his left hand was a gold snuff box, from wh...    EAP\n",
       "3  id27763  How lovely is spring As we looked from Windsor...    MWS\n",
       "4  id12958  Finding nothing else, not even gold, the Super...    HPL"
      ]
     },
     "execution_count": 21,
     "metadata": {},
     "output_type": "execute_result"
    }
   ],
   "source": [
    "train.head()"
   ]
  },
  {
   "cell_type": "code",
   "execution_count": 9,
   "metadata": {},
   "outputs": [
    {
     "data": {
      "text/plain": [
       "(15690, 3889)"
      ]
     },
     "execution_count": 9,
     "metadata": {},
     "output_type": "execute_result"
    }
   ],
   "source": [
    "len(train), len(test)"
   ]
  },
  {
   "cell_type": "code",
   "execution_count": 11,
   "metadata": {},
   "outputs": [],
   "source": [
    "count_vectorizer = CountVectorizer()\n",
    "cv_data = count_vectorizer.fit_transform(train['text'])"
   ]
  },
  {
   "cell_type": "code",
   "execution_count": 12,
   "metadata": {},
   "outputs": [
    {
     "data": {
      "text/plain": [
       "<15690x22969 sparse matrix of type '<class 'numpy.int64'>'\n",
       "\twith 344688 stored elements in Compressed Sparse Row format>"
      ]
     },
     "execution_count": 12,
     "metadata": {},
     "output_type": "execute_result"
    }
   ],
   "source": [
    "cv_data"
   ]
  },
  {
   "cell_type": "code",
   "execution_count": 14,
   "metadata": {},
   "outputs": [
    {
     "data": {
      "text/plain": [
       "set()"
      ]
     },
     "execution_count": 14,
     "metadata": {},
     "output_type": "execute_result"
    }
   ],
   "source": [
    "count_vectorizer.stop_words_"
   ]
  },
  {
   "cell_type": "code",
   "execution_count": 15,
   "metadata": {},
   "outputs": [
    {
     "data": {
      "text/plain": [
       "(15690, 22969)"
      ]
     },
     "execution_count": 15,
     "metadata": {},
     "output_type": "execute_result"
    }
   ],
   "source": [
    "cv_data.shape"
   ]
  },
  {
   "cell_type": "code",
   "execution_count": 17,
   "metadata": {},
   "outputs": [],
   "source": [
    "from sklearn.decomposition import TruncatedSVD\n",
    "\n",
    "lsa = TruncatedSVD(n_components=10)\n",
    "lsa_cv_data = lsa.fit_transform(cv_data)"
   ]
  },
  {
   "cell_type": "code",
   "execution_count": 19,
   "metadata": {},
   "outputs": [
    {
     "data": {
      "text/plain": [
       "(15690, 10)"
      ]
     },
     "execution_count": 19,
     "metadata": {},
     "output_type": "execute_result"
    }
   ],
   "source": [
    "lsa_cv_data.shape"
   ]
  },
  {
   "cell_type": "code",
   "execution_count": 31,
   "metadata": {},
   "outputs": [
    {
     "name": "stdout",
     "output_type": "stream",
     "text": [
      "k=3, score = 0.156140\n",
      "k=4, score = 0.177325\n",
      "k=5, score = 0.169694\n",
      "k=6, score = 0.169239\n",
      "k=7, score = 0.164428\n",
      "k=8, score = 0.177176\n",
      "k=9, score = 0.162819\n",
      "k=10, score = 0.161761\n",
      "k=11, score = 0.156258\n",
      "k=12, score = 0.164213\n",
      "k=13, score = 0.165719\n",
      "k=14, score = 0.157403\n",
      "k=15, score = 0.159739\n",
      "k=16, score = 0.163857\n",
      "k=17, score = 0.157369\n",
      "k=18, score = 0.169740\n",
      "k=19, score = 0.163544\n"
     ]
    }
   ],
   "source": [
    "from sklearn.cluster import KMeans\n",
    "from sklearn.metrics import silhouette_score\n",
    "\n",
    "for k in range(3,20):\n",
    "    km = KMeans()\n",
    "    km.fit(lsa_cv_data)\n",
    "    cluster_labels = km.predict(lsa_cv_data)\n",
    "    s_score = silhouette_score(lsa_cv_data, cluster_labels)\n",
    "    print(\"k={}, score = {:8.6f}\".format(k,score))"
   ]
  },
  {
   "cell_type": "code",
   "execution_count": 37,
   "metadata": {},
   "outputs": [
    {
     "name": "stdout",
     "output_type": "stream",
     "text": [
      "[t-SNE] Computing 91 nearest neighbors...\n",
      "[t-SNE] Indexed 15690 samples in 0.015s...\n",
      "[t-SNE] Computed neighbors for 15690 samples in 2.902s...\n",
      "[t-SNE] Computed conditional probabilities for sample 1000 / 15690\n",
      "[t-SNE] Computed conditional probabilities for sample 2000 / 15690\n",
      "[t-SNE] Computed conditional probabilities for sample 3000 / 15690\n",
      "[t-SNE] Computed conditional probabilities for sample 4000 / 15690\n",
      "[t-SNE] Computed conditional probabilities for sample 5000 / 15690\n",
      "[t-SNE] Computed conditional probabilities for sample 6000 / 15690\n",
      "[t-SNE] Computed conditional probabilities for sample 7000 / 15690\n",
      "[t-SNE] Computed conditional probabilities for sample 8000 / 15690\n",
      "[t-SNE] Computed conditional probabilities for sample 9000 / 15690\n",
      "[t-SNE] Computed conditional probabilities for sample 10000 / 15690\n",
      "[t-SNE] Computed conditional probabilities for sample 11000 / 15690\n",
      "[t-SNE] Computed conditional probabilities for sample 12000 / 15690\n",
      "[t-SNE] Computed conditional probabilities for sample 13000 / 15690\n",
      "[t-SNE] Computed conditional probabilities for sample 14000 / 15690\n",
      "[t-SNE] Computed conditional probabilities for sample 15000 / 15690\n",
      "[t-SNE] Computed conditional probabilities for sample 15690 / 15690\n",
      "[t-SNE] Mean sigma: 0.140483\n",
      "[t-SNE] KL divergence after 250 iterations with early exaggeration: 91.537857\n",
      "[t-SNE] Error after 1000 iterations: 1.711770\n"
     ]
    }
   ],
   "source": [
    "from sklearn.manifold import TSNE\n",
    "\n",
    "tsne = TSNE(n_components=2, perplexity=30.0, verbose=1)\n",
    "\n",
    "X_2 = tsne.fit_transform(lsa_cv_data)"
   ]
  },
  {
   "cell_type": "code",
   "execution_count": 41,
   "metadata": {},
   "outputs": [
    {
     "data": {
      "text/plain": [
       "<matplotlib.collections.PathCollection at 0x1a15492978>"
      ]
     },
     "execution_count": 41,
     "metadata": {},
     "output_type": "execute_result"
    },
    {
     "data": {
      "image/png": "[encoded data removed]",
      "text/plain": [
       "<matplotlib.figure.Figure at 0x111933e48>"
      ]
     },
     "metadata": {},
     "output_type": "display_data"
    }
   ],
   "source": [
    "plt.scatter(X_2[:,0], X_2[:,1])"
   ]
  },
  {
   "cell_type": "code",
   "execution_count": 71,
   "metadata": {},
   "outputs": [
    {
     "name": "stdout",
     "output_type": "stream",
     "text": [
      "CPU times: user 8min 28s, sys: 7.7 s, total: 8min 35s\n",
      "Wall time: 8min 39s\n"
     ]
    }
   ],
   "source": [
    "%%time\n",
    "from sklearn.svm import SVC, LinearSVC\n",
    "from sklearn.model_selection import GridSearchCV\n",
    "\n",
    "\n",
    "svm = SVC()\n",
    "params = {\n",
    "    'C': [30, 100, 300],\n",
    "    'gamma': [1e-3, 1e-2, 1e-1, 1]\n",
    "}\n",
    "\n",
    "grid = GridSearchCV(svm, params)\n",
    "grid.fit(lsa_cv_data, train['author'].values)\n",
    "\n",
    "#svm = SVC(C=1.0, gamma = 1.0)\n",
    "#svm.fit(lsa_cv_data, train['author'].values)\n",
    "#author_labels = svm.predict(lsa_cv_data)"
   ]
  },
  {
   "cell_type": "code",
   "execution_count": 72,
   "metadata": {},
   "outputs": [
    {
     "data": {
      "text/plain": [
       "(0.5192479286169535, {'C': [30, 100, 300], 'gamma': [0.001, 0.01, 0.1, 1]})"
      ]
     },
     "execution_count": 72,
     "metadata": {},
     "output_type": "execute_result"
    }
   ],
   "source": [
    "grid.best_score_, grid.param_grid"
   ]
  },
  {
   "cell_type": "code",
   "execution_count": 73,
   "metadata": {},
   "outputs": [
    {
     "data": {
      "text/plain": [
       "{'C': 100, 'gamma': 0.01}"
      ]
     },
     "execution_count": 73,
     "metadata": {},
     "output_type": "execute_result"
    }
   ],
   "source": [
    "grid.best_params_"
   ]
  },
  {
   "cell_type": "code",
   "execution_count": 74,
   "metadata": {},
   "outputs": [
    {
     "name": "stdout",
     "output_type": "stream",
     "text": [
      "CPU times: user 47min 22s, sys: 18.3 s, total: 47min 40s\n",
      "Wall time: 48min 18s\n"
     ]
    }
   ],
   "source": [
    "%%time\n",
    "# Let's try on the word matrix directly\n",
    "params_matrix = {\n",
    "    'C': [0.05, 1, 30, 100],\n",
    "    'gamma': [1e-6, 1e-3, 1.0, 10]\n",
    "}\n",
    "\n",
    "grid_word_matrix = GridSearchCV(svm, params_matrix)\n",
    "grid_word_matrix.fit(cv_data, train['author'])"
   ]
  },
  {
   "cell_type": "code",
   "execution_count": 76,
   "metadata": {},
   "outputs": [
    {
     "data": {
      "text/plain": [
       "0.7860420650095602"
      ]
     },
     "execution_count": 76,
     "metadata": {},
     "output_type": "execute_result"
    }
   ],
   "source": [
    "grid_word_matrix.best_score_"
   ]
  },
  {
   "cell_type": "code",
   "execution_count": 77,
   "metadata": {},
   "outputs": [
    {
     "data": {
      "text/plain": [
       "{'C': 100, 'gamma': 0.001}"
      ]
     },
     "execution_count": 77,
     "metadata": {},
     "output_type": "execute_result"
    }
   ],
   "source": [
    "grid_word_matrix.best_params_"
   ]
  },
  {
   "cell_type": "markdown",
   "metadata": {},
   "source": [
    "### Now score on the test set"
   ]
  },
  {
   "cell_type": "code",
   "execution_count": 78,
   "metadata": {},
   "outputs": [
    {
     "data": {
      "text/plain": [
       "0.8066340961686809"
      ]
     },
     "execution_count": 78,
     "metadata": {},
     "output_type": "execute_result"
    }
   ],
   "source": [
    "cv_test_data = count_vectorizer.transform(test['text'])\n",
    "grid_word_matrix.score(cv_test_data, test['author'])"
   ]
  },
  {
   "cell_type": "markdown",
   "metadata": {},
   "source": [
    "i.e. a simple SVM will identify the correct author about 80% of the time.\n",
    "\n",
    "Ideas for extensions:\n",
    "- remove stop words?\n",
    "- look at bigrams and trigrams?\n",
    "- limit features?\n",
    "- look at random forest on top of topic models?\n",
    "- experiment with different number of topics?"
   ]
  },
  {
   "cell_type": "code",
   "execution_count": null,
   "metadata": {},
   "outputs": [],
   "source": []
  }
 ],
 "metadata": {
  "kernelspec": {
   "display_name": "Environment (conda_anaconda3)",
   "language": "python",
   "name": "conda_anaconda3"
  },
  "language_info": {
   "codemirror_mode": {
    "name": "ipython",
    "version": 3
   },
   "file_extension": ".py",
   "mimetype": "text/x-python",
   "name": "python",
   "nbconvert_exporter": "python",
   "pygments_lexer": "ipython3",
   "version": "3.6.5"
  }
 },
 "nbformat": 4,
 "nbformat_minor": 2
}
